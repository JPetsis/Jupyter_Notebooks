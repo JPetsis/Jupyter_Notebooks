{
 "cells": [
  {
   "cell_type": "code",
   "execution_count": 18,
   "metadata": {},
   "outputs": [],
   "source": [
    "#Import python libraries\n",
    "from pandas_datareader import data as web\n",
    "import pandas as pd\n",
    "import numpy as np\n",
    "from datetime import datetime\n",
    "from pypfopt.efficient_frontier import EfficientFrontier\n",
    "from pypfopt.discrete_allocation import DiscreteAllocation, get_latest_prices\n",
    "from pypfopt import risk_models\n",
    "from pypfopt import expected_returns\n",
    "import matplotlib.pyplot as plt\n",
    "plt.style.use('fivethirtyeight')"
   ]
  },
  {
   "cell_type": "code",
   "execution_count": 4,
   "metadata": {},
   "outputs": [],
   "source": [
    "#Get the ticker in the portfolio\n",
    "#FAANG\n",
    "assets = ['FB', 'AMZN', 'AAPL', 'NFLX', 'GOOG']"
   ]
  },
  {
   "cell_type": "code",
   "execution_count": 5,
   "metadata": {},
   "outputs": [],
   "source": [
    "#Assign weights to the stocks\n",
    "weights = np.array([0.2, 0.2, 0.2, 0.2, 0.2])"
   ]
  },
  {
   "cell_type": "code",
   "execution_count": 6,
   "metadata": {},
   "outputs": [],
   "source": [
    "#Get the stock starting date\n",
    "stockStartDay = '2013-01-01'"
   ]
  },
  {
   "cell_type": "code",
   "execution_count": 7,
   "metadata": {},
   "outputs": [
    {
     "data": {
      "text/plain": [
       "'2020-04-06'"
      ]
     },
     "execution_count": 7,
     "metadata": {},
     "output_type": "execute_result"
    }
   ],
   "source": [
    "#Get the stock ending day (Today)\n",
    "today = datetime.today().strftime('%Y-%m-%d')\n",
    "today"
   ]
  },
  {
   "cell_type": "code",
   "execution_count": 8,
   "metadata": {},
   "outputs": [
    {
     "data": {
      "text/html": [
       "<div>\n",
       "<style scoped>\n",
       "    .dataframe tbody tr th:only-of-type {\n",
       "        vertical-align: middle;\n",
       "    }\n",
       "\n",
       "    .dataframe tbody tr th {\n",
       "        vertical-align: top;\n",
       "    }\n",
       "\n",
       "    .dataframe thead th {\n",
       "        text-align: right;\n",
       "    }\n",
       "</style>\n",
       "<table border=\"1\" class=\"dataframe\">\n",
       "  <thead>\n",
       "    <tr style=\"text-align: right;\">\n",
       "      <th></th>\n",
       "      <th>FB</th>\n",
       "      <th>AMZN</th>\n",
       "      <th>AAPL</th>\n",
       "      <th>NFLX</th>\n",
       "      <th>GOOG</th>\n",
       "    </tr>\n",
       "    <tr>\n",
       "      <th>Date</th>\n",
       "      <th></th>\n",
       "      <th></th>\n",
       "      <th></th>\n",
       "      <th></th>\n",
       "      <th></th>\n",
       "    </tr>\n",
       "  </thead>\n",
       "  <tbody>\n",
       "    <tr>\n",
       "      <th>2013-01-02</th>\n",
       "      <td>28.000000</td>\n",
       "      <td>257.309998</td>\n",
       "      <td>68.687538</td>\n",
       "      <td>13.144286</td>\n",
       "      <td>360.274597</td>\n",
       "    </tr>\n",
       "    <tr>\n",
       "      <th>2013-01-03</th>\n",
       "      <td>27.770000</td>\n",
       "      <td>258.480011</td>\n",
       "      <td>67.820526</td>\n",
       "      <td>13.798572</td>\n",
       "      <td>360.483826</td>\n",
       "    </tr>\n",
       "    <tr>\n",
       "      <th>2013-01-04</th>\n",
       "      <td>28.760000</td>\n",
       "      <td>259.149994</td>\n",
       "      <td>65.931404</td>\n",
       "      <td>13.711429</td>\n",
       "      <td>367.607117</td>\n",
       "    </tr>\n",
       "    <tr>\n",
       "      <th>2013-01-07</th>\n",
       "      <td>29.420000</td>\n",
       "      <td>268.459991</td>\n",
       "      <td>65.543602</td>\n",
       "      <td>14.171429</td>\n",
       "      <td>366.003143</td>\n",
       "    </tr>\n",
       "    <tr>\n",
       "      <th>2013-01-08</th>\n",
       "      <td>29.059999</td>\n",
       "      <td>266.380005</td>\n",
       "      <td>65.719994</td>\n",
       "      <td>13.880000</td>\n",
       "      <td>365.280823</td>\n",
       "    </tr>\n",
       "    <tr>\n",
       "      <th>...</th>\n",
       "      <td>...</td>\n",
       "      <td>...</td>\n",
       "      <td>...</td>\n",
       "      <td>...</td>\n",
       "      <td>...</td>\n",
       "    </tr>\n",
       "    <tr>\n",
       "      <th>2020-03-30</th>\n",
       "      <td>165.949997</td>\n",
       "      <td>1963.949951</td>\n",
       "      <td>254.809998</td>\n",
       "      <td>370.959991</td>\n",
       "      <td>1146.819946</td>\n",
       "    </tr>\n",
       "    <tr>\n",
       "      <th>2020-03-31</th>\n",
       "      <td>166.800003</td>\n",
       "      <td>1949.719971</td>\n",
       "      <td>254.289993</td>\n",
       "      <td>375.500000</td>\n",
       "      <td>1162.810059</td>\n",
       "    </tr>\n",
       "    <tr>\n",
       "      <th>2020-04-01</th>\n",
       "      <td>159.600006</td>\n",
       "      <td>1907.699951</td>\n",
       "      <td>240.910004</td>\n",
       "      <td>364.079987</td>\n",
       "      <td>1105.619995</td>\n",
       "    </tr>\n",
       "    <tr>\n",
       "      <th>2020-04-02</th>\n",
       "      <td>158.190002</td>\n",
       "      <td>1918.829956</td>\n",
       "      <td>244.929993</td>\n",
       "      <td>370.079987</td>\n",
       "      <td>1120.839966</td>\n",
       "    </tr>\n",
       "    <tr>\n",
       "      <th>2020-04-03</th>\n",
       "      <td>154.179993</td>\n",
       "      <td>1906.589966</td>\n",
       "      <td>241.410004</td>\n",
       "      <td>361.760010</td>\n",
       "      <td>1097.880005</td>\n",
       "    </tr>\n",
       "  </tbody>\n",
       "</table>\n",
       "<p>1827 rows × 5 columns</p>\n",
       "</div>"
      ],
      "text/plain": [
       "                    FB         AMZN        AAPL        NFLX         GOOG\n",
       "Date                                                                    \n",
       "2013-01-02   28.000000   257.309998   68.687538   13.144286   360.274597\n",
       "2013-01-03   27.770000   258.480011   67.820526   13.798572   360.483826\n",
       "2013-01-04   28.760000   259.149994   65.931404   13.711429   367.607117\n",
       "2013-01-07   29.420000   268.459991   65.543602   14.171429   366.003143\n",
       "2013-01-08   29.059999   266.380005   65.719994   13.880000   365.280823\n",
       "...                ...          ...         ...         ...          ...\n",
       "2020-03-30  165.949997  1963.949951  254.809998  370.959991  1146.819946\n",
       "2020-03-31  166.800003  1949.719971  254.289993  375.500000  1162.810059\n",
       "2020-04-01  159.600006  1907.699951  240.910004  364.079987  1105.619995\n",
       "2020-04-02  158.190002  1918.829956  244.929993  370.079987  1120.839966\n",
       "2020-04-03  154.179993  1906.589966  241.410004  361.760010  1097.880005\n",
       "\n",
       "[1827 rows x 5 columns]"
      ]
     },
     "execution_count": 8,
     "metadata": {},
     "output_type": "execute_result"
    }
   ],
   "source": [
    "#Create a dataframe to store the adjusted closing price\n",
    "df = pd.DataFrame()\n",
    "for stock in assets:\n",
    "    df[stock] = web.DataReader(stock, data_source='yahoo', start = stockStartDay, end = today)['Adj Close']\n",
    "df"
   ]
  },
  {
   "cell_type": "code",
   "execution_count": 9,
   "metadata": {},
   "outputs": [
    {
     "data": {
      "image/png": "[encoded data removed]",
      "text/plain": [
       "<Figure size 936x576 with 1 Axes>"
      ]
     },
     "metadata": {},
     "output_type": "display_data"
    }
   ],
   "source": [
    "#Visualize portfolio\n",
    "my_stocks = df\n",
    "title = 'Portfolio adj. close price history'\n",
    "plt.figure(figsize=(13, 8))\n",
    "for c in my_stocks.columns.values:\n",
    "    plt.plot(my_stocks[c], label = c)\n",
    "plt.title(title)\n",
    "plt.xlabel('Date')\n",
    "plt.ylabel('Adj. Price Usd ($)')\n",
    "plt.legend(my_stocks.columns.values, loc='upper left')\n",
    "plt.show()"
   ]
  },
  {
   "cell_type": "code",
   "execution_count": 10,
   "metadata": {},
   "outputs": [
    {
     "data": {
      "text/html": [
       "<div>\n",
       "<style scoped>\n",
       "    .dataframe tbody tr th:only-of-type {\n",
       "        vertical-align: middle;\n",
       "    }\n",
       "\n",
       "    .dataframe tbody tr th {\n",
       "        vertical-align: top;\n",
       "    }\n",
       "\n",
       "    .dataframe thead th {\n",
       "        text-align: right;\n",
       "    }\n",
       "</style>\n",
       "<table border=\"1\" class=\"dataframe\">\n",
       "  <thead>\n",
       "    <tr style=\"text-align: right;\">\n",
       "      <th></th>\n",
       "      <th>FB</th>\n",
       "      <th>AMZN</th>\n",
       "      <th>AAPL</th>\n",
       "      <th>NFLX</th>\n",
       "      <th>GOOG</th>\n",
       "    </tr>\n",
       "    <tr>\n",
       "      <th>Date</th>\n",
       "      <th></th>\n",
       "      <th></th>\n",
       "      <th></th>\n",
       "      <th></th>\n",
       "      <th></th>\n",
       "    </tr>\n",
       "  </thead>\n",
       "  <tbody>\n",
       "    <tr>\n",
       "      <th>2013-01-02</th>\n",
       "      <td>NaN</td>\n",
       "      <td>NaN</td>\n",
       "      <td>NaN</td>\n",
       "      <td>NaN</td>\n",
       "      <td>NaN</td>\n",
       "    </tr>\n",
       "    <tr>\n",
       "      <th>2013-01-03</th>\n",
       "      <td>-0.008214</td>\n",
       "      <td>0.004547</td>\n",
       "      <td>-0.012623</td>\n",
       "      <td>0.049777</td>\n",
       "      <td>0.000581</td>\n",
       "    </tr>\n",
       "    <tr>\n",
       "      <th>2013-01-04</th>\n",
       "      <td>0.035650</td>\n",
       "      <td>0.002592</td>\n",
       "      <td>-0.027855</td>\n",
       "      <td>-0.006315</td>\n",
       "      <td>0.019760</td>\n",
       "    </tr>\n",
       "    <tr>\n",
       "      <th>2013-01-07</th>\n",
       "      <td>0.022949</td>\n",
       "      <td>0.035925</td>\n",
       "      <td>-0.005882</td>\n",
       "      <td>0.033549</td>\n",
       "      <td>-0.004363</td>\n",
       "    </tr>\n",
       "    <tr>\n",
       "      <th>2013-01-08</th>\n",
       "      <td>-0.012237</td>\n",
       "      <td>-0.007748</td>\n",
       "      <td>0.002691</td>\n",
       "      <td>-0.020565</td>\n",
       "      <td>-0.001974</td>\n",
       "    </tr>\n",
       "    <tr>\n",
       "      <th>...</th>\n",
       "      <td>...</td>\n",
       "      <td>...</td>\n",
       "      <td>...</td>\n",
       "      <td>...</td>\n",
       "      <td>...</td>\n",
       "    </tr>\n",
       "    <tr>\n",
       "      <th>2020-03-30</th>\n",
       "      <td>0.058422</td>\n",
       "      <td>0.033603</td>\n",
       "      <td>0.028538</td>\n",
       "      <td>0.038754</td>\n",
       "      <td>0.032511</td>\n",
       "    </tr>\n",
       "    <tr>\n",
       "      <th>2020-03-31</th>\n",
       "      <td>0.005122</td>\n",
       "      <td>-0.007246</td>\n",
       "      <td>-0.002041</td>\n",
       "      <td>0.012239</td>\n",
       "      <td>0.013943</td>\n",
       "    </tr>\n",
       "    <tr>\n",
       "      <th>2020-04-01</th>\n",
       "      <td>-0.043165</td>\n",
       "      <td>-0.021552</td>\n",
       "      <td>-0.052617</td>\n",
       "      <td>-0.030413</td>\n",
       "      <td>-0.049183</td>\n",
       "    </tr>\n",
       "    <tr>\n",
       "      <th>2020-04-02</th>\n",
       "      <td>-0.008835</td>\n",
       "      <td>0.005834</td>\n",
       "      <td>0.016687</td>\n",
       "      <td>0.016480</td>\n",
       "      <td>0.013766</td>\n",
       "    </tr>\n",
       "    <tr>\n",
       "      <th>2020-04-03</th>\n",
       "      <td>-0.025349</td>\n",
       "      <td>-0.006379</td>\n",
       "      <td>-0.014371</td>\n",
       "      <td>-0.022482</td>\n",
       "      <td>-0.020485</td>\n",
       "    </tr>\n",
       "  </tbody>\n",
       "</table>\n",
       "<p>1827 rows × 5 columns</p>\n",
       "</div>"
      ],
      "text/plain": [
       "                  FB      AMZN      AAPL      NFLX      GOOG\n",
       "Date                                                        \n",
       "2013-01-02       NaN       NaN       NaN       NaN       NaN\n",
       "2013-01-03 -0.008214  0.004547 -0.012623  0.049777  0.000581\n",
       "2013-01-04  0.035650  0.002592 -0.027855 -0.006315  0.019760\n",
       "2013-01-07  0.022949  0.035925 -0.005882  0.033549 -0.004363\n",
       "2013-01-08 -0.012237 -0.007748  0.002691 -0.020565 -0.001974\n",
       "...              ...       ...       ...       ...       ...\n",
       "2020-03-30  0.058422  0.033603  0.028538  0.038754  0.032511\n",
       "2020-03-31  0.005122 -0.007246 -0.002041  0.012239  0.013943\n",
       "2020-04-01 -0.043165 -0.021552 -0.052617 -0.030413 -0.049183\n",
       "2020-04-02 -0.008835  0.005834  0.016687  0.016480  0.013766\n",
       "2020-04-03 -0.025349 -0.006379 -0.014371 -0.022482 -0.020485\n",
       "\n",
       "[1827 rows x 5 columns]"
      ]
     },
     "execution_count": 10,
     "metadata": {},
     "output_type": "execute_result"
    }
   ],
   "source": [
    "#Show the daily simple return\n",
    "returns = df.pct_change()\n",
    "returns"
   ]
  },
  {
   "cell_type": "code",
   "execution_count": 11,
   "metadata": {},
   "outputs": [
    {
     "data": {
      "text/html": [
       "<div>\n",
       "<style scoped>\n",
       "    .dataframe tbody tr th:only-of-type {\n",
       "        vertical-align: middle;\n",
       "    }\n",
       "\n",
       "    .dataframe tbody tr th {\n",
       "        vertical-align: top;\n",
       "    }\n",
       "\n",
       "    .dataframe thead th {\n",
       "        text-align: right;\n",
       "    }\n",
       "</style>\n",
       "<table border=\"1\" class=\"dataframe\">\n",
       "  <thead>\n",
       "    <tr style=\"text-align: right;\">\n",
       "      <th></th>\n",
       "      <th>FB</th>\n",
       "      <th>AMZN</th>\n",
       "      <th>AAPL</th>\n",
       "      <th>NFLX</th>\n",
       "      <th>GOOG</th>\n",
       "    </tr>\n",
       "  </thead>\n",
       "  <tbody>\n",
       "    <tr>\n",
       "      <th>FB</th>\n",
       "      <td>0.114491</td>\n",
       "      <td>0.050869</td>\n",
       "      <td>0.038910</td>\n",
       "      <td>0.054245</td>\n",
       "      <td>0.046454</td>\n",
       "    </tr>\n",
       "    <tr>\n",
       "      <th>AMZN</th>\n",
       "      <td>0.050869</td>\n",
       "      <td>0.090363</td>\n",
       "      <td>0.034173</td>\n",
       "      <td>0.060009</td>\n",
       "      <td>0.045432</td>\n",
       "    </tr>\n",
       "    <tr>\n",
       "      <th>AAPL</th>\n",
       "      <td>0.038910</td>\n",
       "      <td>0.034173</td>\n",
       "      <td>0.075230</td>\n",
       "      <td>0.031022</td>\n",
       "      <td>0.035434</td>\n",
       "    </tr>\n",
       "    <tr>\n",
       "      <th>NFLX</th>\n",
       "      <td>0.054245</td>\n",
       "      <td>0.060009</td>\n",
       "      <td>0.031022</td>\n",
       "      <td>0.214486</td>\n",
       "      <td>0.048537</td>\n",
       "    </tr>\n",
       "    <tr>\n",
       "      <th>GOOG</th>\n",
       "      <td>0.046454</td>\n",
       "      <td>0.045432</td>\n",
       "      <td>0.035434</td>\n",
       "      <td>0.048537</td>\n",
       "      <td>0.062798</td>\n",
       "    </tr>\n",
       "  </tbody>\n",
       "</table>\n",
       "</div>"
      ],
      "text/plain": [
       "            FB      AMZN      AAPL      NFLX      GOOG\n",
       "FB    0.114491  0.050869  0.038910  0.054245  0.046454\n",
       "AMZN  0.050869  0.090363  0.034173  0.060009  0.045432\n",
       "AAPL  0.038910  0.034173  0.075230  0.031022  0.035434\n",
       "NFLX  0.054245  0.060009  0.031022  0.214486  0.048537\n",
       "GOOG  0.046454  0.045432  0.035434  0.048537  0.062798"
      ]
     },
     "execution_count": 11,
     "metadata": {},
     "output_type": "execute_result"
    }
   ],
   "source": [
    "#Show the annualized covariance matrix\n",
    "cov_matrix_annual = returns.cov() * 252\n",
    "cov_matrix_annual"
   ]
  },
  {
   "cell_type": "code",
   "execution_count": 12,
   "metadata": {},
   "outputs": [
    {
     "data": {
      "text/plain": [
       "0.057901420147660705"
      ]
     },
     "execution_count": 12,
     "metadata": {},
     "output_type": "execute_result"
    }
   ],
   "source": [
    "#Calculate the portfolio variance\n",
    "port_variance = np.dot(weights.T, np.dot(cov_matrix_annual, weights))\n",
    "port_variance"
   ]
  },
  {
   "cell_type": "code",
   "execution_count": 13,
   "metadata": {},
   "outputs": [
    {
     "data": {
      "text/plain": [
       "0.24062713925835694"
      ]
     },
     "execution_count": 13,
     "metadata": {},
     "output_type": "execute_result"
    }
   ],
   "source": [
    "#Calculate the portfolio volatility (STD)\n",
    "port_volatility = np.sqrt(port_variance)\n",
    "port_volatility"
   ]
  },
  {
   "cell_type": "code",
   "execution_count": 14,
   "metadata": {},
   "outputs": [
    {
     "data": {
      "text/plain": [
       "0.31419374854180565"
      ]
     },
     "execution_count": 14,
     "metadata": {},
     "output_type": "execute_result"
    }
   ],
   "source": [
    "#Calculate the annual portfolio return\n",
    "portfolioSimpleAnnualReturn = np.sum(returns.mean() * weights) * 252\n",
    "portfolioSimpleAnnualReturn"
   ]
  },
  {
   "cell_type": "code",
   "execution_count": 15,
   "metadata": {},
   "outputs": [
    {
     "name": "stdout",
     "output_type": "stream",
     "text": [
      "Expected annual return: 31.0 %\n",
      "Annual volatility: 24.0 %\n",
      "Annual variance: 6.0 %\n"
     ]
    }
   ],
   "source": [
    "#Expected annual return, volatility (risk) and variance\n",
    "percent_var = str(round(port_variance, 2) * 100) + ' %'\n",
    "percent_vols = str(round(port_volatility, 2) * 100) + ' %'\n",
    "percent_ret = str(round(portfolioSimpleAnnualReturn, 2) * 100) + ' %'\n",
    "\n",
    "print('Expected annual return: '+ percent_ret)\n",
    "print('Annual volatility: '+ percent_vols)\n",
    "print('Annual variance: '+ percent_var)"
   ]
  },
  {
   "cell_type": "code",
   "execution_count": 17,
   "metadata": {},
   "outputs": [
    {
     "name": "stdout",
     "output_type": "stream",
     "text": [
      "{'FB': 0.11976, 'AMZN': 0.31495, 'AAPL': 0.17312, 'NFLX': 0.39217, 'GOOG': 0.0}\n",
      "Expected annual return: 39.3%\n",
      "Annual volatility: 28.1%\n",
      "Sharpe Ratio: 1.33\n"
     ]
    },
    {
     "data": {
      "text/plain": [
       "(0.39288447996406994, 0.28134711982802807, 1.3253538198364838)"
      ]
     },
     "execution_count": 17,
     "metadata": {},
     "output_type": "execute_result"
    }
   ],
   "source": [
    "#Portfolio optimization\n",
    "\n",
    "#Calculate the expected returns and the annualized sample covariance matrix of asset returns\n",
    "mu = expected_returns.mean_historical_return(df)\n",
    "S = risk_models.sample_cov(df)\n",
    "\n",
    "#Optimize for max sharpe ratio\n",
    "ef = EfficientFrontier(mu, S)\n",
    "weights = ef.max_sharpe()\n",
    "cleaned_weights = ef.clean_weights()\n",
    "print(cleaned_weights)\n",
    "ef.portfolio_performance(verbose=True)"
   ]
  },
  {
   "cell_type": "code",
   "execution_count": 19,
   "metadata": {},
   "outputs": [
    {
     "name": "stdout",
     "output_type": "stream",
     "text": [
      "Discrete allocation: {'FB': 13.0, 'AMZN': 2.0, 'AAPL': 11.0, 'NFLX': 17.0}\n",
      "Funds remaining: $377.05\n"
     ]
    }
   ],
   "source": [
    "#Get the discrete allocation of each share per stock\n",
    "latest_prices = get_latest_prices(df)\n",
    "weights = cleaned_weights\n",
    "da = DiscreteAllocation(weights, latest_prices, total_portfolio_value=15000)\n",
    "\n",
    "allocation, leftover = da.lp_portfolio()\n",
    "print('Discrete allocation:', allocation)\n",
    "print('Funds remaining: ${:.2f}'.format(leftover))"
   ]
  },
  {
   "cell_type": "code",
   "execution_count": null,
   "metadata": {},
   "outputs": [],
   "source": []
  }
 ],
 "metadata": {
  "kernelspec": {
   "display_name": "Python 3",
   "language": "python",
   "name": "python3"
  },
  "language_info": {
   "codemirror_mode": {
    "name": "ipython",
    "version": 3
   },
   "file_extension": ".py",
   "mimetype": "text/x-python",
   "name": "python",
   "nbconvert_exporter": "python",
   "pygments_lexer": "ipython3",
   "version": "3.8.1"
  }
 },
 "nbformat": 4,
 "nbformat_minor": 4
}
